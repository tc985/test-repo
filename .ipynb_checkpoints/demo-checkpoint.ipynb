{
 "cells": [
  {
   "cell_type": "code",
   "execution_count": 1,
   "metadata": {},
   "outputs": [
    {
     "name": "stdout",
     "output_type": "stream",
     "text": [
      "Please enter your age: 15\n",
      "You are not able to vote in the United States.\n"
     ]
    }
   ],
   "source": [
    "while True:\n",
    "    try:\n",
    "        age = int(input(\"Please enter your age: \"))\n",
    "    except ValueError:\n",
    "        print(\"Sorry, I didn't understand that.\")\n",
    "        continue\n",
    "\n",
    "    if age < 0:\n",
    "        print(\"Sorry, your response must not be negative.\")\n",
    "        continue\n",
    "    else:\n",
    "        #age was successfully parsed, and we're happy with its value.\n",
    "        #we're ready to exit the loop.\n",
    "        break\n",
    "if age >= 18:\n",
    "    print(\"You are able to vote in the United States!\")\n",
    "else:\n",
    "    print(\"You are not able to vote in the United States.\")"
   ]
  },
  {
   "cell_type": "markdown",
   "metadata": {},
   "source": [
    "this tests out a while loop, it is not my code"
   ]
  }
 ],
 "metadata": {
  "kernelspec": {
   "display_name": "Python 3",
   "language": "python",
   "name": "python3"
  },
  "language_info": {
   "codemirror_mode": {
    "name": "ipython",
    "version": 3
   },
   "file_extension": ".py",
   "mimetype": "text/x-python",
   "name": "python",
   "nbconvert_exporter": "python",
   "pygments_lexer": "ipython3",
   "version": "3.7.4"
  }
 },
 "nbformat": 4,
 "nbformat_minor": 2
}
